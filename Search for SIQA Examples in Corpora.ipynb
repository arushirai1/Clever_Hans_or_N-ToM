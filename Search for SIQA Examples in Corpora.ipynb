{
 "cells": [
  {
   "cell_type": "code",
   "execution_count": 1,
   "id": "55d19236",
   "metadata": {},
   "outputs": [
    {
     "name": "stdout",
     "output_type": "stream",
     "text": [
      "Collecting elasticsearch\n",
      "  Downloading elasticsearch-8.7.0-py3-none-any.whl (387 kB)\n",
      "\u001b[K     |████████████████████████████████| 387 kB 2.7 MB/s eta 0:00:01\n",
      "\u001b[?25hCollecting elastic-transport<9,>=8\n",
      "  Downloading elastic_transport-8.4.0-py3-none-any.whl (59 kB)\n",
      "\u001b[K     |████████████████████████████████| 59 kB 20.9 MB/s eta 0:00:01\n",
      "\u001b[?25hRequirement already satisfied: certifi in /Users/vshwartz/opt/anaconda3/lib/python3.9/site-packages (from elastic-transport<9,>=8->elasticsearch) (2021.10.8)\n",
      "Requirement already satisfied: urllib3<2,>=1.26.2 in /Users/vshwartz/opt/anaconda3/lib/python3.9/site-packages (from elastic-transport<9,>=8->elasticsearch) (1.26.7)\n",
      "Installing collected packages: elastic-transport, elasticsearch\n",
      "Successfully installed elastic-transport-8.4.0 elasticsearch-8.7.0\n"
     ]
    }
   ],
   "source": [
    "!pip install elasticsearch"
   ]
  },
  {
   "cell_type": "markdown",
   "id": "b843fc46",
   "metadata": {},
   "source": [
    "Sample some examples from the Social IQa training set."
   ]
  },
  {
   "cell_type": "code",
   "execution_count": 2,
   "id": "d66e6608",
   "metadata": {},
   "outputs": [],
   "source": [
    "from elasticsearch import Elasticsearch\n",
    "es = Elasticsearch(\n",
    "         cloud_id=\"lm-datasets:dXMtY2VudHJhbDEuZ2NwLmNsb3VkLmVzLmlvJDk1N2U5ODIwZDUxNTQ0YWViMjk0MmQwNzI1NjE0OTQ2JDhkN2M0OWMyZDEzMTRiNmM4NDNhNGEwN2U4NDE5NjRl\",\n",
    "         api_key=\"T2w5Vl9ZTUIzVzE5dTlBblUtRlo6MHNBYWxhbHVTeGFodUpUOWIybkNNZw==\",\n",
    "         retry_on_timeout=True,\n",
    "         http_compress=True)"
   ]
  },
  {
   "cell_type": "code",
   "execution_count": 13,
   "id": "d3cf3630",
   "metadata": {},
   "outputs": [],
   "source": [
    "import json\n",
    "import random\n",
    "\n",
    "with open(\"socialIQa_v1.4_trn.jsonl\") as f_in:\n",
    "    socialiqa_examples = [json.loads(line) for line in f_in]\n",
    "    \n",
    "sample = random.sample(socialiqa_examples, 100)"
   ]
  },
  {
   "cell_type": "code",
   "execution_count": 14,
   "id": "05196483",
   "metadata": {},
   "outputs": [],
   "source": [
    "contexts = [ex[\"context\"].split(\".\")[0] for ex in sample]\n",
    "contexts = [c for c in contexts if len(c.split()) > 3]"
   ]
  },
  {
   "cell_type": "markdown",
   "id": "88fa4a44",
   "metadata": {},
   "source": [
    "Look for it in different corpora."
   ]
  },
  {
   "cell_type": "code",
   "execution_count": 18,
   "id": "5e3e5f3f",
   "metadata": {},
   "outputs": [
    {
     "name": "stderr",
     "output_type": "stream",
     "text": [
      "/var/folders/hz/7bs42t6d18s3r5qpwk86kvlw0000gn/T/ipykernel_60502/452525507.py:8: DeprecationWarning: The 'body' parameter is deprecated and will be removed in a future version. Instead use individual parameters.\n",
      "  found += min(1, es.search(\n"
     ]
    },
    {
     "name": "stdout",
     "output_type": "stream",
     "text": [
      "c4: 0%\n",
      "metrics-endpoint.metadata_current_default: 0%\n",
      "openwebtext: 0%\n",
      "re_laion2b-en-1: 0%\n",
      "re_laion2b-en-2: 0%\n",
      "re_oscar: 0%\n",
      "re_pile: 0%\n",
      "s2orc-abstracts: 0%\n",
      "search-test: 0%\n",
      "test-index: 0%\n",
      "test-index-2: 0%\n"
     ]
    }
   ],
   "source": [
    "indices = [name for name in es.indices.get(index=\"*\").keys() if not name.startswith(\".\")]\n",
    "\n",
    "for corpus in indices:\n",
    "    found = 0 \n",
    "    for context in contexts:\n",
    "        found += min(1, es.search(\n",
    "            index=corpus, body={\"query\": {\"match_phrase\": {\"text\": context}}})['hits']['total']['value'])\n",
    "    \n",
    "    print(f\"{corpus}: {found}%\")"
   ]
  },
  {
   "cell_type": "markdown",
   "id": "6e7ddcae",
   "metadata": {},
   "source": [
    "Sanity check with phrases that probably exist on the web:"
   ]
  },
  {
   "cell_type": "code",
   "execution_count": 20,
   "id": "62588af1",
   "metadata": {},
   "outputs": [
    {
     "name": "stderr",
     "output_type": "stream",
     "text": [
      "/var/folders/hz/7bs42t6d18s3r5qpwk86kvlw0000gn/T/ipykernel_60502/40817552.py:6: DeprecationWarning: The 'body' parameter is deprecated and will be removed in a future version. Instead use individual parameters.\n",
      "  found += min(1, es.search(\n"
     ]
    },
    {
     "name": "stdout",
     "output_type": "stream",
     "text": [
      "c4: 3/3\n",
      "metrics-endpoint.metadata_current_default: 0/3\n",
      "openwebtext: 3/3\n",
      "re_laion2b-en-1: 3/3\n",
      "re_laion2b-en-2: 3/3\n",
      "re_oscar: 3/3\n",
      "re_pile: 3/3\n",
      "s2orc-abstracts: 2/3\n",
      "search-test: 0/3\n",
      "test-index: 1/3\n",
      "test-index-2: 1/3\n"
     ]
    }
   ],
   "source": [
    "fake_contexts = [\"hello world\", \"last night I dreamt\", \"he works at\"]\n",
    "\n",
    "for corpus in indices:\n",
    "    found = 0 \n",
    "    for context in fake_contexts:\n",
    "        found += min(1, es.search(\n",
    "            index=corpus, body={\"query\": {\"match_phrase\": {\"text\": context}}})['hits']['total']['value'])\n",
    "    \n",
    "    print(f\"{corpus}: {found}/{len(fake_contexts)}\")"
   ]
  }
 ],
 "metadata": {
  "kernelspec": {
   "display_name": "Python 3 (ipykernel)",
   "language": "python",
   "name": "python3"
  },
  "language_info": {
   "codemirror_mode": {
    "name": "ipython",
    "version": 3
   },
   "file_extension": ".py",
   "mimetype": "text/x-python",
   "name": "python",
   "nbconvert_exporter": "python",
   "pygments_lexer": "ipython3",
   "version": "3.9.7"
  }
 },
 "nbformat": 4,
 "nbformat_minor": 5
}
